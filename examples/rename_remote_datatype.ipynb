{
 "cells": [
  {
   "cell_type": "code",
   "execution_count": null,
   "id": "a3cace8c",
   "metadata": {},
   "outputs": [],
   "source": [
    "# Be careful with running these examples; they can damage the whole data storage\n",
    "from labdatatools import *\n",
    "# list all files\n",
    "files = rclone_list_files()"
   ]
  },
  {
   "cell_type": "code",
   "execution_count": null,
   "id": "a2ddf8f2",
   "metadata": {},
   "outputs": [],
   "source": [
    "# Rename datatype: in this example: onephoton to one_photon\n",
    "oldname = 'onephoton'\n",
    "newname = 'one_photon'\n",
    "torename = files[files.datatype == oldname]\n",
    "torename = torename.dirname.drop_duplicates().values\n",
    "for f in tqdm(torename):\n",
    "    if f.endswith(oldname):\n",
    "        cmd = 'rclone moveto {drive}:{folder}/{fname} {drive}:{folder}/{fnamenew} '.format(\n",
    "            fname = f,fnamenew = f.replace(oldname,newname),**labdata_preferences['rclone'])\n",
    "#         print(cmd)\n",
    "        os.system(cmd)"
   ]
  },
  {
   "cell_type": "code",
   "execution_count": null,
   "id": "df312c53",
   "metadata": {},
   "outputs": [],
   "source": [
    "# Rename local folders (on linux/gitbash)\n",
    "import subprocess\n",
    "cmd = 'find {path} -type d -name {oldname}'.format(path = labdata_preferences['paths'][0],oldname = oldname)\n",
    "res = subprocess.check_output(cmd, shell=True)\n",
    "for folder in tqdm(res.decode().split('\\n')):\n",
    "    if len(folder):\n",
    "        cmd = 'mv {folder} {newfolder}'.format(folder = folder,newfolder = folder.replace(oldname,newname))\n",
    "        os.system(cmd)"
   ]
  },
  {
   "cell_type": "code",
   "execution_count": null,
   "id": "d6cea5a4",
   "metadata": {},
   "outputs": [],
   "source": [
    "# Delete .DS_Store mac files\n",
    "for i,f in files[(files.filename == '._.DS_Store') | (files.filename == '.DS_Store')].iterrows():\n",
    "    cmd = 'rclone deletefile {drive}:{folder}/{fname}'.format(fname = f.filepath,**labdata_preferences['rclone'])\n",
    "    print(cmd)\n",
    "    os.system(cmd)"
   ]
  }
 ],
 "metadata": {
  "kernelspec": {
   "display_name": "Python 3 (ipykernel)",
   "language": "python",
   "name": "python3"
  },
  "language_info": {
   "codemirror_mode": {
    "name": "ipython",
    "version": 3
   },
   "file_extension": ".py",
   "mimetype": "text/x-python",
   "name": "python",
   "nbconvert_exporter": "python",
   "pygments_lexer": "ipython3",
   "version": "3.8.10"
  }
 },
 "nbformat": 4,
 "nbformat_minor": 5
}
