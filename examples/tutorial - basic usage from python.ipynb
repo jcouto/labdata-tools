{
 "cells": [
  {
   "cell_type": "markdown",
   "id": "1256f616",
   "metadata": {},
   "source": [
    "## Tutorial\n",
    "\n",
    "This tutorial exemplifies how to use the python module to list files and grab sessions from the google DATA folder.\n",
    "\n",
    "1. list subjects\n",
    "1. list sessions\n",
    "1. list all files for a subject\n",
    "1. retrieve a specific experiment\n",
    "1. download all files of a type\n",
    "\n",
    "#### To install the package: \n",
    "\n",
    "1. install and configure ``rclone`` to access the lab's data shared folder\n",
    "   * with Anaconda just do ``conda install rclone -c conda-forge`` then ``rclone config``\n",
    "1. edit the ``$HOME/.labdatatools`` file that gets created the first time you try to import the module.\n",
    "   * add the name of the shared drive ([churchland_data]) to ``rclone/drive``\n",
    "   * add/replace the name of the local data folder to ``paths``\n",
    "   \n",
    "   \n",
    "### Expected data organization\n",
    "\n",
    "Data are organized in folders in the server; the first 3 folders are structured as:\n",
    "\n",
    "1. __SUBJECT__ (XX000)\n",
    "    2. __SESSION__ typically the DATE_TIME of the session (20201230_181455)\n",
    "        3. __DATATYPE__ identifyer of the type of data (a session can have multiple datatypes, ephys, behavior...)\n",
    "            4. ..."
   ]
  },
  {
   "cell_type": "code",
   "execution_count": 6,
   "id": "a5ce6ce0",
   "metadata": {},
   "outputs": [],
   "source": [
    "# import the module\n",
    "from labdatatools import *"
   ]
  },
  {
   "cell_type": "markdown",
   "id": "b29b73c1",
   "metadata": {},
   "source": [
    "#### List all subjects in the data server"
   ]
  },
  {
   "cell_type": "code",
   "execution_count": 2,
   "id": "c51f3d20",
   "metadata": {},
   "outputs": [
    {
     "name": "stdout",
     "output_type": "stream",
     "text": [
      "There are data from 126 subjects in the server:\n",
      "\tAC006,AC007,AC008,AC009,AC010,AC011,AC012,ACh001(825),AK000,AK001,AK002,AK003,AK004,AK005,AK006,AK007,JC015,JC016,JC017,JC018,JC019,JC020,JC021,JC022,JC023,JC024,JC025,JC026,JC027,JC028,JC029,JC030,JC031,JC032,JC033,JC034,JC035,JC036,JC037,JC038,JC039,JC040,JC041,JC042,JC043,JC044,JC045,JC046,JC047,JC048,JC049,JC050,JC051,JC052,JC053,JC054,JC055,JC056,JC058,JC059,JC060,JR002,JR006,JR007,JR008,JR009,JR010,JR011,JR012,JR013,JR015,JR016,JR018,JR019,JR020,JR021,JR022,JR024,JR028,JR030,JR031,JR033,JR034,LO007,LO008,LO009,LO010,LO011,LO012,LO013,LO014,LO015,LO016,LO017,LO018,LO019,LO020,LO021,LO022,LO023,LO025,LO026,MR01,MR02,MT006,No77,No79,No9031,No9032,RatEphys,UCLA004,UCLA005,UCLA006,UCLA007,UCLA008,UCLA009,UCLA010,UCLA011,UCLA012,UCLA013,cy03,cy06,cy08,cy11,dummy,freeMovBlack\n"
     ]
    }
   ],
   "source": [
    "# list subjects and print a summary\n",
    "subjects = rclone_list_subjects()\n",
    "\n",
    "print('There are data from {0} subjects in the server:'.format(len(subjects)))\n",
    "print('\\t'+','.join(subjects))"
   ]
  },
  {
   "cell_type": "markdown",
   "id": "bc59d489",
   "metadata": {},
   "source": [
    "#### List sessions for a specific subject"
   ]
  },
  {
   "cell_type": "code",
   "execution_count": 2,
   "id": "8afa087f",
   "metadata": {},
   "outputs": [
    {
     "name": "stdout",
     "output_type": "stream",
     "text": [
      "There are 138 sessions for subject JC046.\n"
     ]
    }
   ],
   "source": [
    "# list sessions for a subject (get only the names)\n",
    "subject = 'JC046'\n",
    "sessionnames = rclone_list_sessions(subject = subject)\n",
    "print('There are {1} sessions for subject {0}.'.format(subject,len(sessionnames)))"
   ]
  },
  {
   "cell_type": "markdown",
   "id": "7142496a",
   "metadata": {},
   "source": [
    "#### List files for a subject"
   ]
  },
  {
   "cell_type": "code",
   "execution_count": 2,
   "id": "09cd6b54",
   "metadata": {},
   "outputs": [
    {
     "name": "stdout",
     "output_type": "stream",
     "text": [
      "There are 442 files for subject JC027 in 81 sessions and 3 different experiment \n",
      "data kinds: SpatialSparrow, two_photon, suite2p\n"
     ]
    }
   ],
   "source": [
    "# list files for subject\n",
    "subject = 'JC027'\n",
    "files = rclone_list_files(subject = subject)\n",
    "print('''There are {0} files for subject {1} in {2} sessions and {3} different experiment \n",
    "data kinds: {4}'''.format(\n",
    "    len(files),\n",
    "    subject,\n",
    "    len(files.session.unique()),\n",
    "    len(files.datatype.unique()),', '.join(files.datatype.unique())))"
   ]
  },
  {
   "cell_type": "markdown",
   "id": "74b8b10c",
   "metadata": {},
   "source": [
    "#### Find the sessions with 2P experiments"
   ]
  },
  {
   "cell_type": "code",
   "execution_count": 3,
   "id": "52ef73b8",
   "metadata": {},
   "outputs": [
    {
     "name": "stdout",
     "output_type": "stream",
     "text": [
      "\n",
      "    Sessions with 2P for JC027:\n",
      "\t20210202_164855, \n",
      "\t20210202_111053, \n",
      "\t20210201_183530, \n",
      "\t20210201_182320\n",
      "\n"
     ]
    }
   ],
   "source": [
    "# filter sessions with 2P recordings\n",
    "sessions = files[files.datatype == 'two_photon'].session.unique()\n",
    "\n",
    "print('''\n",
    "    Sessions with 2P for {1}:\n",
    "\\t{0}\n",
    "'''.format(', \\n\\t'.join(sessions),subject))"
   ]
  },
  {
   "cell_type": "markdown",
   "id": "9fb89c1f",
   "metadata": {},
   "source": [
    "#### Fetch all mat files from a subject to disk\n"
   ]
  },
  {
   "cell_type": "code",
   "execution_count": null,
   "id": "0941a9ce",
   "metadata": {},
   "outputs": [],
   "source": [
    "# get behavior mat files from the first sessions with 2p data\n",
    "tparse = rclone_get_data(subject = subject, includes=['*.mat'])"
   ]
  },
  {
   "cell_type": "code",
   "execution_count": 35,
   "id": "b6eba298",
   "metadata": {},
   "outputs": [
    {
     "data": {
      "text/html": [
       "<div>\n",
       "<style scoped>\n",
       "    .dataframe tbody tr th:only-of-type {\n",
       "        vertical-align: middle;\n",
       "    }\n",
       "\n",
       "    .dataframe tbody tr th {\n",
       "        vertical-align: top;\n",
       "    }\n",
       "\n",
       "    .dataframe thead th {\n",
       "        text-align: right;\n",
       "    }\n",
       "</style>\n",
       "<table border=\"1\" class=\"dataframe\">\n",
       "  <thead>\n",
       "    <tr style=\"text-align: right;\">\n",
       "      <th></th>\n",
       "      <th>filename</th>\n",
       "      <th>filesize</th>\n",
       "      <th>filepath</th>\n",
       "      <th>dirname</th>\n",
       "      <th>session</th>\n",
       "      <th>datatype</th>\n",
       "    </tr>\n",
       "  </thead>\n",
       "  <tbody>\n",
       "    <tr>\n",
       "      <th>0</th>\n",
       "      <td>JC059_20210719_164509_DropletsTask.triallog.h5</td>\n",
       "      <td>1556152</td>\n",
       "      <td>JC059/20210719_164509/DropletsTask/JC059_20210...</td>\n",
       "      <td>JC059/20210719_164509/DropletsTask</td>\n",
       "      <td>20210719_164509</td>\n",
       "      <td>DropletsTask</td>\n",
       "    </tr>\n",
       "    <tr>\n",
       "      <th>1</th>\n",
       "      <td>DropletsTask.yaml</td>\n",
       "      <td>1052</td>\n",
       "      <td>JC059/20210719_164509/DropletsTask/DropletsTas...</td>\n",
       "      <td>JC059/20210719_164509/DropletsTask</td>\n",
       "      <td>20210719_164509</td>\n",
       "      <td>DropletsTask</td>\n",
       "    </tr>\n",
       "    <tr>\n",
       "      <th>2</th>\n",
       "      <td>JC059_20210719_121235_DropletsTask.triallog.h5</td>\n",
       "      <td>1465564</td>\n",
       "      <td>JC059/20210719_121235/DropletsTask/JC059_20210...</td>\n",
       "      <td>JC059/20210719_121235/DropletsTask</td>\n",
       "      <td>20210719_121235</td>\n",
       "      <td>DropletsTask</td>\n",
       "    </tr>\n",
       "    <tr>\n",
       "      <th>3</th>\n",
       "      <td>DropletsTask.yaml</td>\n",
       "      <td>1067</td>\n",
       "      <td>JC059/20210719_121235/DropletsTask/DropletsTas...</td>\n",
       "      <td>JC059/20210719_121235/DropletsTask</td>\n",
       "      <td>20210719_121235</td>\n",
       "      <td>DropletsTask</td>\n",
       "    </tr>\n",
       "    <tr>\n",
       "      <th>4</th>\n",
       "      <td>JC059_20210716_115028_DropletsTask.triallog.h5</td>\n",
       "      <td>1420586</td>\n",
       "      <td>JC059/20210716_115028/DropletsTask/JC059_20210...</td>\n",
       "      <td>JC059/20210716_115028/DropletsTask</td>\n",
       "      <td>20210716_115028</td>\n",
       "      <td>DropletsTask</td>\n",
       "    </tr>\n",
       "    <tr>\n",
       "      <th>...</th>\n",
       "      <td>...</td>\n",
       "      <td>...</td>\n",
       "      <td>...</td>\n",
       "      <td>...</td>\n",
       "      <td>...</td>\n",
       "      <td>...</td>\n",
       "    </tr>\n",
       "    <tr>\n",
       "      <th>499</th>\n",
       "      <td>JC054_20210524_202522_DropletsTask.triallog.h5</td>\n",
       "      <td>1076416</td>\n",
       "      <td>JC054/JC054_20210524_202522/DropletsTask/JC054...</td>\n",
       "      <td>JC054/JC054_20210524_202522/DropletsTask</td>\n",
       "      <td>JC054_20210524_202522</td>\n",
       "      <td>DropletsTask</td>\n",
       "    </tr>\n",
       "    <tr>\n",
       "      <th>500</th>\n",
       "      <td>JC055_20210524_201340_DropletsTask.triallog.h5</td>\n",
       "      <td>1078224</td>\n",
       "      <td>JC055/JC055_20210524_201340/DropletsTask/JC055...</td>\n",
       "      <td>JC055/JC055_20210524_201340/DropletsTask</td>\n",
       "      <td>JC055_20210524_201340</td>\n",
       "      <td>DropletsTask</td>\n",
       "    </tr>\n",
       "    <tr>\n",
       "      <th>501</th>\n",
       "      <td>JC056_20210524_200658_DropletsTask.triallog.h5</td>\n",
       "      <td>1075696</td>\n",
       "      <td>JC056/JC056_20210524_200658/DropletsTask/JC056...</td>\n",
       "      <td>JC056/JC056_20210524_200658/DropletsTask</td>\n",
       "      <td>JC056_20210524_200658</td>\n",
       "      <td>DropletsTask</td>\n",
       "    </tr>\n",
       "    <tr>\n",
       "      <th>502</th>\n",
       "      <td>JC055_20210524_192349_DropletsTask.triallog.h5</td>\n",
       "      <td>1075120</td>\n",
       "      <td>JC055/JC055_20210524_192349/DropletsTask/JC055...</td>\n",
       "      <td>JC055/JC055_20210524_192349/DropletsTask</td>\n",
       "      <td>JC055_20210524_192349</td>\n",
       "      <td>DropletsTask</td>\n",
       "    </tr>\n",
       "    <tr>\n",
       "      <th>503</th>\n",
       "      <td>JC054_20210524_190944_DropletsTask.triallog.h5</td>\n",
       "      <td>1075416</td>\n",
       "      <td>JC054/JC054_20210524_190944/DropletsTask/JC054...</td>\n",
       "      <td>JC054/JC054_20210524_190944/DropletsTask</td>\n",
       "      <td>JC054_20210524_190944</td>\n",
       "      <td>DropletsTask</td>\n",
       "    </tr>\n",
       "  </tbody>\n",
       "</table>\n",
       "<p>504 rows × 6 columns</p>\n",
       "</div>"
      ],
      "text/plain": [
       "                                           filename  filesize  \\\n",
       "0    JC059_20210719_164509_DropletsTask.triallog.h5   1556152   \n",
       "1                                 DropletsTask.yaml      1052   \n",
       "2    JC059_20210719_121235_DropletsTask.triallog.h5   1465564   \n",
       "3                                 DropletsTask.yaml      1067   \n",
       "4    JC059_20210716_115028_DropletsTask.triallog.h5   1420586   \n",
       "..                                              ...       ...   \n",
       "499  JC054_20210524_202522_DropletsTask.triallog.h5   1076416   \n",
       "500  JC055_20210524_201340_DropletsTask.triallog.h5   1078224   \n",
       "501  JC056_20210524_200658_DropletsTask.triallog.h5   1075696   \n",
       "502  JC055_20210524_192349_DropletsTask.triallog.h5   1075120   \n",
       "503  JC054_20210524_190944_DropletsTask.triallog.h5   1075416   \n",
       "\n",
       "                                              filepath  \\\n",
       "0    JC059/20210719_164509/DropletsTask/JC059_20210...   \n",
       "1    JC059/20210719_164509/DropletsTask/DropletsTas...   \n",
       "2    JC059/20210719_121235/DropletsTask/JC059_20210...   \n",
       "3    JC059/20210719_121235/DropletsTask/DropletsTas...   \n",
       "4    JC059/20210716_115028/DropletsTask/JC059_20210...   \n",
       "..                                                 ...   \n",
       "499  JC054/JC054_20210524_202522/DropletsTask/JC054...   \n",
       "500  JC055/JC055_20210524_201340/DropletsTask/JC055...   \n",
       "501  JC056/JC056_20210524_200658/DropletsTask/JC056...   \n",
       "502  JC055/JC055_20210524_192349/DropletsTask/JC055...   \n",
       "503  JC054/JC054_20210524_190944/DropletsTask/JC054...   \n",
       "\n",
       "                                      dirname                session  \\\n",
       "0          JC059/20210719_164509/DropletsTask        20210719_164509   \n",
       "1          JC059/20210719_164509/DropletsTask        20210719_164509   \n",
       "2          JC059/20210719_121235/DropletsTask        20210719_121235   \n",
       "3          JC059/20210719_121235/DropletsTask        20210719_121235   \n",
       "4          JC059/20210716_115028/DropletsTask        20210716_115028   \n",
       "..                                        ...                    ...   \n",
       "499  JC054/JC054_20210524_202522/DropletsTask  JC054_20210524_202522   \n",
       "500  JC055/JC055_20210524_201340/DropletsTask  JC055_20210524_201340   \n",
       "501  JC056/JC056_20210524_200658/DropletsTask  JC056_20210524_200658   \n",
       "502  JC055/JC055_20210524_192349/DropletsTask  JC055_20210524_192349   \n",
       "503  JC054/JC054_20210524_190944/DropletsTask  JC054_20210524_190944   \n",
       "\n",
       "         datatype  \n",
       "0    DropletsTask  \n",
       "1    DropletsTask  \n",
       "2    DropletsTask  \n",
       "3    DropletsTask  \n",
       "4    DropletsTask  \n",
       "..            ...  \n",
       "499  DropletsTask  \n",
       "500  DropletsTask  \n",
       "501  DropletsTask  \n",
       "502  DropletsTask  \n",
       "503  DropletsTask  \n",
       "\n",
       "[504 rows x 6 columns]"
      ]
     },
     "execution_count": 35,
     "metadata": {},
     "output_type": "execute_result"
    }
   ],
   "source": [
    "rclone_list_files(include=['*Droplets*'])"
   ]
  },
  {
   "cell_type": "code",
   "execution_count": null,
   "id": "93c330c2",
   "metadata": {},
   "outputs": [],
   "source": [
    "# list all files in the database\n",
    "allfiles = rclone_list_files()"
   ]
  }
 ],
 "metadata": {
  "kernelspec": {
   "display_name": "Python 3",
   "language": "python",
   "name": "python3"
  },
  "language_info": {
   "codemirror_mode": {
    "name": "ipython",
    "version": 3
   },
   "file_extension": ".py",
   "mimetype": "text/x-python",
   "name": "python",
   "nbconvert_exporter": "python",
   "pygments_lexer": "ipython3",
   "version": "3.9.5"
  }
 },
 "nbformat": 4,
 "nbformat_minor": 5
}
