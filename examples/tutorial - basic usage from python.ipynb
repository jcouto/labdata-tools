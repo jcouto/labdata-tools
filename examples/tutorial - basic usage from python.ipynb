{
 "cells": [
  {
   "cell_type": "markdown",
   "id": "c4195505",
   "metadata": {},
   "source": [
    "## Tutorial\n",
    "\n",
    "This tutorial exemplifies how to use the python module to list files and grab sessions from the google DATA folder.\n",
    "\n",
    "1. list subjects\n",
    "1. list sessions\n",
    "1. list all files for a subject\n",
    "1. retrieve a specific experiment\n",
    "1. download all files of a type\n",
    "\n",
    "#### To install the package: \n",
    "\n",
    "1. install and configure ``rclone`` to access the lab's data shared folder\n",
    "   * with Anaconda just do ``conda install rclone -c conda-forge`` then ``rclone config``\n",
    "1. edit the ``$HOME/.labdatatools`` file that gets created the first time you try to import the module.\n",
    "   * add the name of the shared drive ([churchland_data]) to ``rclone/drive``\n",
    "   * add/replace the name of the local data folder to ``paths``\n",
    "   \n",
    "   \n",
    "### Expected data organization\n",
    "\n",
    "Data are organized in folders in the server; the first 3 folders are structured as:\n",
    "\n",
    "1. __SUBJECT__ (XX000)\n",
    "    2. __SESSION__ typically the DATE_TIME of the session (20201230_181455)\n",
    "        3. __DATATYPE__ identifyer of the type of data (a session can have multiple datatypes, ephys, behavior...)\n",
    "            4. ..."
   ]
  },
  {
   "cell_type": "code",
   "execution_count": 6,
   "id": "e14da8b2",
   "metadata": {},
   "outputs": [],
   "source": [
    "# import the module\n",
    "from labdatatools import *"
   ]
  },
  {
   "cell_type": "markdown",
   "id": "f63e6a50",
   "metadata": {},
   "source": [
    "#### List all subjects in the data server"
   ]
  },
  {
   "cell_type": "code",
   "execution_count": 2,
   "id": "f0576f8b",
   "metadata": {},
   "outputs": [
    {
     "name": "stdout",
     "output_type": "stream",
     "text": [
      "There are data from 126 subjects in the server:\n",
      "\tAC006,AC007,AC008,AC009,AC010,AC011,AC012,ACh001(825),AK000,AK001,AK002,AK003,AK004,AK005,AK006,AK007,JC015,JC016,JC017,JC018,JC019,JC020,JC021,JC022,JC023,JC024,JC025,JC026,JC027,JC028,JC029,JC030,JC031,JC032,JC033,JC034,JC035,JC036,JC037,JC038,JC039,JC040,JC041,JC042,JC043,JC044,JC045,JC046,JC047,JC048,JC049,JC050,JC051,JC052,JC053,JC054,JC055,JC056,JC058,JC059,JC060,JR002,JR006,JR007,JR008,JR009,JR010,JR011,JR012,JR013,JR015,JR016,JR018,JR019,JR020,JR021,JR022,JR024,JR028,JR030,JR031,JR033,JR034,LO007,LO008,LO009,LO010,LO011,LO012,LO013,LO014,LO015,LO016,LO017,LO018,LO019,LO020,LO021,LO022,LO023,LO025,LO026,MR01,MR02,MT006,No77,No79,No9031,No9032,RatEphys,UCLA004,UCLA005,UCLA006,UCLA007,UCLA008,UCLA009,UCLA010,UCLA011,UCLA012,UCLA013,cy03,cy06,cy08,cy11,dummy,freeMovBlack\n"
     ]
    }
   ],
   "source": [
    "# list subjects and print a summary\n",
    "subjects = rclone_list_subjects()\n",
    "\n",
    "print('There are data from {0} subjects in the server:'.format(len(subjects)))\n",
    "print('\\t'+','.join(subjects))"
   ]
  },
  {
   "cell_type": "markdown",
   "id": "7f1d421e",
   "metadata": {},
   "source": [
    "#### List sessions for a specific subject"
   ]
  },
  {
   "cell_type": "code",
   "execution_count": 2,
   "id": "79806e14",
   "metadata": {},
   "outputs": [
    {
     "name": "stdout",
     "output_type": "stream",
     "text": [
      "There are 138 sessions for subject JC046.\n"
     ]
    }
   ],
   "source": [
    "# list sessions for a subject (get only the names)\n",
    "subject = 'JC046'\n",
    "sessionnames = rclone_list_sessions(subject = subject)\n",
    "print('There are {1} sessions for subject {0}.'.format(subject,len(sessionnames)))"
   ]
  },
  {
   "cell_type": "markdown",
   "id": "59d1d1e4",
   "metadata": {},
   "source": [
    "#### List files for a subject"
   ]
  },
  {
   "cell_type": "code",
   "execution_count": 2,
   "id": "8bbda2f4",
   "metadata": {},
   "outputs": [
    {
     "name": "stdout",
     "output_type": "stream",
     "text": [
      "There are 442 files for subject JC027 in 81 sessions and 3 different experiment \n",
      "data kinds: SpatialSparrow, two_photon, suite2p\n"
     ]
    }
   ],
   "source": [
    "# list files for subject\n",
    "subject = 'JC027'\n",
    "files = rclone_list_files(subject = subject)\n",
    "print('''There are {0} files for subject {1} in {2} sessions and {3} different experiment \n",
    "data kinds: {4}'''.format(\n",
    "    len(files),\n",
    "    subject,\n",
    "    len(files.session.unique()),\n",
    "    len(files.datatype.unique()),', '.join(files.datatype.unique())))"
   ]
  },
  {
   "cell_type": "markdown",
   "id": "b9a7e1cd",
   "metadata": {},
   "source": [
    "#### Find the sessions with 2P experiments"
   ]
  },
  {
   "cell_type": "code",
   "execution_count": 3,
   "id": "bb44c074",
   "metadata": {},
   "outputs": [
    {
     "name": "stdout",
     "output_type": "stream",
     "text": [
      "\n",
      "    Sessions with 2P for JC027:\n",
      "\t20210202_164855, \n",
      "\t20210202_111053, \n",
      "\t20210201_183530, \n",
      "\t20210201_182320\n",
      "\n"
     ]
    }
   ],
   "source": [
    "# filter sessions with 2P recordings\n",
    "sessions = files[files.datatype == 'two_photon'].session.unique()\n",
    "\n",
    "print('''\n",
    "    Sessions with 2P for {1}:\n",
    "\\t{0}\n",
    "'''.format(', \\n\\t'.join(sessions),subject))"
   ]
  },
  {
   "cell_type": "markdown",
   "id": "06d534ed",
   "metadata": {},
   "source": [
    "#### Fetch all mat files from a subject to disk\n"
   ]
  },
  {
   "cell_type": "code",
   "execution_count": null,
   "id": "d1499320",
   "metadata": {},
   "outputs": [],
   "source": [
    "# get behavior mat files from the first sessions with 2p data\n",
    "tparse = rclone_get_data(subject = subject, includes=['*.mat'])"
   ]
  },
  {
   "cell_type": "code",
   "execution_count": 8,
   "id": "e7c0bc0e",
   "metadata": {},
   "outputs": [
    {
     "data": {
      "text/html": [
       "<div>\n",
       "<style scoped>\n",
       "    .dataframe tbody tr th:only-of-type {\n",
       "        vertical-align: middle;\n",
       "    }\n",
       "\n",
       "    .dataframe tbody tr th {\n",
       "        vertical-align: top;\n",
       "    }\n",
       "\n",
       "    .dataframe thead th {\n",
       "        text-align: right;\n",
       "    }\n",
       "</style>\n",
       "<table border=\"1\" class=\"dataframe\">\n",
       "  <thead>\n",
       "    <tr style=\"text-align: right;\">\n",
       "      <th></th>\n",
       "    </tr>\n",
       "  </thead>\n",
       "  <tbody>\n",
       "  </tbody>\n",
       "</table>\n",
       "</div>"
      ],
      "text/plain": [
       "Empty DataFrame\n",
       "Columns: []\n",
       "Index: []"
      ]
     },
     "execution_count": 8,
     "metadata": {},
     "output_type": "execute_result"
    }
   ],
   "source": [
    "rclone_list_files(filters=['DropletsTask'])"
   ]
  },
  {
   "cell_type": "code",
   "execution_count": null,
   "id": "54adaa1d",
   "metadata": {},
   "outputs": [],
   "source": [
    "# list all files in the database\n",
    "allfiles = rclone_list_files()"
   ]
  }
 ],
 "metadata": {
  "kernelspec": {
   "display_name": "Python 3",
   "language": "python",
   "name": "python3"
  },
  "language_info": {
   "codemirror_mode": {
    "name": "ipython",
    "version": 3
   },
   "file_extension": ".py",
   "mimetype": "text/x-python",
   "name": "python",
   "nbconvert_exporter": "python",
   "pygments_lexer": "ipython3",
   "version": "3.9.5"
  }
 },
 "nbformat": 4,
 "nbformat_minor": 5
}
